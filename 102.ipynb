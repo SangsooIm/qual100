{
 "cells": [
  {
   "cell_type": "code",
   "execution_count": null,
   "metadata": {},
   "outputs": [],
   "source": [
    "from typing import List, Optional\n",
    "class TreeNode:\n",
    "    def __init__(self, val=0, left=None, right=None):\n",
    "        self.val = val\n",
    "        self.left = left\n",
    "        self.right = right\n",
    "class Solution:\n",
    "    def levelOrder(self, root: Optional[TreeNode]) -> List[List[int]]:\n",
    "        ret_list = []\n",
    "        if not root:\n",
    "            return ret_list # for an output\n",
    "        stack = [[root]] # for checking\n",
    "        while stack:\n",
    "            nodes = stack.pop(0) # first item in stack pops\n",
    "            if nodes:\n",
    "                ret_list.append([]) # make an empty list\n",
    "                stack.append([]) # make an empty list\n",
    "                for node in nodes:\n",
    "                    ret_list[-1].append(node.val)\n",
    "                    if node.left:\n",
    "                        stack[-1].append(node.left)\n",
    "                    if node.right:\n",
    "                        stack[-1].append(node.right)\n",
    "        return ret_list"
   ]
  },
  {
   "cell_type": "code",
   "execution_count": 5,
   "metadata": {},
   "outputs": [
    {
     "ename": "NameError",
     "evalue": "name 'Optional' is not defined",
     "output_type": "error",
     "traceback": [
      "\u001b[1;31m---------------------------------------------------------------------------\u001b[0m",
      "\u001b[1;31mNameError\u001b[0m                                 Traceback (most recent call last)",
      "\u001b[1;32mc:\\Users\\vetys\\Sangsoo\\qual100\\102.ipynb Cell 2\u001b[0m in \u001b[0;36m<cell line: 1>\u001b[1;34m()\u001b[0m\n\u001b[1;32m----> <a href='vscode-notebook-cell:/c%3A/Users/vetys/Sangsoo/qual100/102.ipynb#W1sZmlsZQ%3D%3D?line=0'>1</a>\u001b[0m \u001b[39mdef\u001b[39;00m \u001b[39mlevelOrder\u001b[39m(\u001b[39mself\u001b[39m, root: Optional[TreeNode]) \u001b[39m-\u001b[39m\u001b[39m>\u001b[39m List[List[\u001b[39mint\u001b[39m]]:\n\u001b[0;32m      <a href='vscode-notebook-cell:/c%3A/Users/vetys/Sangsoo/qual100/102.ipynb#W1sZmlsZQ%3D%3D?line=1'>2</a>\u001b[0m     ret_list \u001b[39m=\u001b[39m []\n\u001b[0;32m      <a href='vscode-notebook-cell:/c%3A/Users/vetys/Sangsoo/qual100/102.ipynb#W1sZmlsZQ%3D%3D?line=2'>3</a>\u001b[0m     \u001b[39mif\u001b[39;00m \u001b[39mnot\u001b[39;00m root:\n",
      "\u001b[1;31mNameError\u001b[0m: name 'Optional' is not defined"
     ]
    }
   ],
   "source": [
    "def levelOrder(self, root: Optional[TreeNode]) -> List[List[int]]:\n",
    "    ret_list = []\n",
    "    if not root:\n",
    "        return ret_list # for an output\n",
    "    stack = [[root]] # for checking\n",
    "    while stack:\n",
    "        nodes = stack.pop(0) # first item in stack pops\n",
    "        if nodes:\n",
    "            ret_list.append([]) # make an empty list\n",
    "            stack.append([]) # make an empty list\n",
    "            for node in nodes:\n",
    "                ret_list[-1].append(node.val)\n",
    "                if node.left:\n",
    "                    stack[-1].append(node.left)\n",
    "                if node.right:\n",
    "                    stack[-1].append(node.right)\n",
    "    return ret_list\n"
   ]
  },
  {
   "cell_type": "code",
   "execution_count": 2,
   "metadata": {},
   "outputs": [
    {
     "data": {
      "text/plain": [
       "5"
      ]
     },
     "execution_count": 2,
     "metadata": {},
     "output_type": "execute_result"
    }
   ],
   "source": [
    "a.pop()"
   ]
  },
  {
   "cell_type": "code",
   "execution_count": 3,
   "metadata": {},
   "outputs": [
    {
     "data": {
      "text/plain": [
       "1"
      ]
     },
     "execution_count": 3,
     "metadata": {},
     "output_type": "execute_result"
    }
   ],
   "source": [
    "a.pop(0)"
   ]
  },
  {
   "cell_type": "code",
   "execution_count": 4,
   "metadata": {},
   "outputs": [
    {
     "data": {
      "text/plain": [
       "[2, 3, 4]"
      ]
     },
     "execution_count": 4,
     "metadata": {},
     "output_type": "execute_result"
    }
   ],
   "source": [
    "a"
   ]
  },
  {
   "cell_type": "code",
   "execution_count": null,
   "metadata": {},
   "outputs": [],
   "source": []
  }
 ],
 "metadata": {
  "kernelspec": {
   "display_name": "Python 3",
   "language": "python",
   "name": "python3"
  },
  "language_info": {
   "codemirror_mode": {
    "name": "ipython",
    "version": 3
   },
   "file_extension": ".py",
   "mimetype": "text/x-python",
   "name": "python",
   "nbconvert_exporter": "python",
   "pygments_lexer": "ipython3",
   "version": "3.10.4"
  },
  "orig_nbformat": 4,
  "vscode": {
   "interpreter": {
    "hash": "f4bf4c230414bfad1d1b7f24e608a8d50520451498df4f7b7532ef265a2b9f1f"
   }
  }
 },
 "nbformat": 4,
 "nbformat_minor": 2
}
