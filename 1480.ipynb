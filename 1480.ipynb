{
 "cells": [
  {
   "cell_type": "code",
   "execution_count": 8,
   "metadata": {},
   "outputs": [],
   "source": [
    "from typing import List"
   ]
  },
  {
   "cell_type": "code",
   "execution_count": 9,
   "metadata": {},
   "outputs": [],
   "source": [
    "class Solution:\n",
    "    def runningSum(self, nums: List[int]) -> List[int]:\n",
    "        out = []\n",
    "        out[0] = nums[0]\n",
    "        for i in range(1, len(nums)):\n",
    "            out[i] = out[i-1] + nums[i]\n",
    "        return out"
   ]
  },
  {
   "cell_type": "code",
   "execution_count": 10,
   "metadata": {},
   "outputs": [],
   "source": [
    "nums = [1,2,3,4]\n",
    "nums2 = [1, 1, 1, 1, 1]\n",
    "nums3 = [3,1,2,10,1]"
   ]
  },
  {
   "cell_type": "code",
   "execution_count": 16,
   "metadata": {},
   "outputs": [
    {
     "ename": "TypeError",
     "evalue": "Solution.runningSum() missing 1 required positional argument: 'nums'",
     "output_type": "error",
     "traceback": [
      "\u001b[1;31m---------------------------------------------------------------------------\u001b[0m",
      "\u001b[1;31mTypeError\u001b[0m                                 Traceback (most recent call last)",
      "\u001b[1;32mc:\\Users\\vetys\\Sangsoo\\qual100\\1480.ipynb Cell 4\u001b[0m in \u001b[0;36m<cell line: 2>\u001b[1;34m()\u001b[0m\n\u001b[0;32m      <a href='vscode-notebook-cell:/c%3A/Users/vetys/Sangsoo/qual100/1480.ipynb#W2sZmlsZQ%3D%3D?line=0'>1</a>\u001b[0m sol \u001b[39m=\u001b[39m Solution\n\u001b[1;32m----> <a href='vscode-notebook-cell:/c%3A/Users/vetys/Sangsoo/qual100/1480.ipynb#W2sZmlsZQ%3D%3D?line=1'>2</a>\u001b[0m sol\u001b[39m.\u001b[39;49mrunningSum(nums)\n",
      "\u001b[1;31mTypeError\u001b[0m: Solution.runningSum() missing 1 required positional argument: 'nums'"
     ]
    }
   ],
   "source": [
    "sol = Solution\n",
    "sol.runningSum(nums)"
   ]
  },
  {
   "cell_type": "code",
   "execution_count": null,
   "metadata": {},
   "outputs": [],
   "source": []
  }
 ],
 "metadata": {
  "kernelspec": {
   "display_name": "Python 3",
   "language": "python",
   "name": "python3"
  },
  "language_info": {
   "codemirror_mode": {
    "name": "ipython",
    "version": 3
   },
   "file_extension": ".py",
   "mimetype": "text/x-python",
   "name": "python",
   "nbconvert_exporter": "python",
   "pygments_lexer": "ipython3",
   "version": "3.10.4"
  },
  "orig_nbformat": 4,
  "vscode": {
   "interpreter": {
    "hash": "f4bf4c230414bfad1d1b7f24e608a8d50520451498df4f7b7532ef265a2b9f1f"
   }
  }
 },
 "nbformat": 4,
 "nbformat_minor": 2
}
