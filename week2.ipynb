{
 "cells": [
  {
   "cell_type": "code",
   "execution_count": 2,
   "metadata": {},
   "outputs": [],
   "source": [
    "# Definition for singly-linked list.\n",
    "# 21_Merge Two sorted list\n",
    "from typing import Optional\n",
    "class ListNode:\n",
    "    def __init__(self, val=0, next=None):\n",
    "        self.val = val\n",
    "        self.next = next\n",
    "class Solution:\n",
    "    def mergeTwoLists(self, list1: Optional[ListNode], list2: Optional[ListNode]) -> Optional[ListNode]:\n",
    "        i, j, k, maxlen = 0, 0, 0, 0\n",
    "        list3_len = len(list1)+len(list2)\n",
    "        list3 = [0] * list3_len\n",
    "        while i < len(list1) and j < len(list2):\n",
    "            if list1[i] < list2[j]:\n",
    "                list3[k] = list1[i]\n",
    "                i += 1\n",
    "            else:\n",
    "                list3[k] = list2[j]\n",
    "                j += 1\n",
    "            k += 1\n",
    "        if i < len(list1):\n",
    "            list3[k:] = list1[i:]\n",
    "        if j < len(list2):\n",
    "            list3[k:] = list2[j:]\n",
    "        return list3\n",
    "                    \n",
    "            "
   ]
  },
  {
   "cell_type": "code",
   "execution_count": 3,
   "metadata": {},
   "outputs": [],
   "source": [
    "# 21_Merge Two sorted list\n",
    "class Solution:\n",
    "    def mergeTwoLists(self, list1: Optional[ListNode], list2: Optional[ListNode]) -> Optional[ListNode]:\n",
    "        list3_head = ListNode(-1)\n",
    "        list3 = list3_head\n",
    "        while list1 and list2:\n",
    "            if list1.val < list2.val:\n",
    "                list3.next = list1\n",
    "                list1 = list1.next\n",
    "            else:\n",
    "                list3.next = list2\n",
    "                list2 = list2.next\n",
    "            list3 = list3.next\n",
    "        if list1:\n",
    "            list3.next = list1\n",
    "        if list2:\n",
    "            list3.next = list2\n",
    "        return list3_head.next\n"
   ]
  },
  {
   "cell_type": "code",
   "execution_count": 4,
   "metadata": {},
   "outputs": [],
   "source": [
    "#206. Reverse Linked List\n",
    "class Solution:\n",
    "    def reverseList(self, head: Optional[ListNode]) -> Optional[ListNode]:\n",
    "        prev = ListNode()\n",
    "        next = ListNode()\n",
    "        prev = head\n",
    "        next = head.next\n",
    "        while head.next:\n",
    "            #go forward\n",
    "            next = next.next\n",
    "            #change direction\n",
    "            head.next = prev\n",
    "            #go forward\n",
    "            # go forward\n",
    "            prev = head\n",
    "            # go forward\n",
    "            head = next\n",
    "\n",
    "        return head\n"
   ]
  },
  {
   "cell_type": "code",
   "execution_count": 5,
   "metadata": {},
   "outputs": [],
   "source": [
    "#206. Reverse Linked List\n",
    "class Solution:\n",
    "    def reverseList(self, head: Optional[ListNode]) -> Optional[ListNode]:\n",
    "        prev = None\n",
    "        next = ListNode()\n",
    "        while head:\n",
    "            #go forward\n",
    "            next = head.next\n",
    "            #change direction\n",
    "            head.next = prev\n",
    "            #go forward\n",
    "            prev = head\n",
    "            # go forward\n",
    "            head = next\n",
    "\n",
    "        return prev\n"
   ]
  },
  {
   "cell_type": "code",
   "execution_count": 6,
   "metadata": {},
   "outputs": [],
   "source": [
    "#206. Reverse Linked List\n",
    "class Solution:\n",
    "    def reverseList(self, head: Optional[ListNode]) -> Optional[ListNode]:\n",
    "        prev = None\n",
    "        next = None\n",
    "        curr = head\n",
    "        while curr:\n",
    "            #go forward\n",
    "            next = curr.next\n",
    "            #change direction\n",
    "            curr.next = prev\n",
    "            #go forward\n",
    "            prev = curr\n",
    "            # go forward\n",
    "            curr = next\n",
    "\n",
    "        return prev"
   ]
  },
  {
   "cell_type": "code",
   "execution_count": 7,
   "metadata": {},
   "outputs": [],
   "source": [
    "class Solution:\n",
    "    def reverseList(self, head: ListNode) -> ListNode:\n",
    "        prev = None\n",
    "        curr = head\n",
    "        while curr:\n",
    "            next_temp = curr.next\n",
    "            curr.next = prev\n",
    "            prev = curr\n",
    "            curr = next_temp\n",
    "            \n",
    "        return prev"
   ]
  },
  {
   "cell_type": "code",
   "execution_count": null,
   "metadata": {},
   "outputs": [],
   "source": [
    "#876_failed\n",
    "# Definition for singly-linked list.\n",
    "# class ListNode:\n",
    "#     def __init__(self, val=0, next=None):\n",
    "#         self.val = val\n",
    "#         self.next = next\n",
    "class Solution:\n",
    "    def middleNode(self, head: Optional[ListNode]) -> Optional[ListNode]:\n",
    "        lst = []\n",
    "        ln = 0\n",
    "        while head:\n",
    "            lst.append(head.val)\n",
    "            head = head.next\n",
    "        ln = len(lst)\n",
    "        return lst[ln//2]"
   ]
  },
  {
   "cell_type": "code",
   "execution_count": null,
   "metadata": {},
   "outputs": [],
   "source": [
    "#876\n",
    "class Solution:\n",
    "    def middleNode(self, head: Optional[ListNode]) -> Optional[ListNode]:\n",
    "        middle_number, num, tmpnode = 0, 0, head\n",
    "        while head:\n",
    "            num += 1\n",
    "            head = head.next\n",
    "        middle_number = num//2\n",
    "        tmp = 0\n",
    "        while tmp != middle_number:\n",
    "            tmp += 1\n",
    "            tmpnode = tmpnode.next\n",
    "        return tmpnode"
   ]
  },
  {
   "cell_type": "code",
   "execution_count": 17,
   "metadata": {},
   "outputs": [
    {
     "data": {
      "text/plain": [
       "[3]"
      ]
     },
     "execution_count": 17,
     "metadata": {},
     "output_type": "execute_result"
    }
   ],
   "source": [
    "# 142_failed (인덱스를 리턴하라는 줄 알았음... testcase가 좀 이상함)\n",
    "# Definition for singly-linked list.\n",
    "# class ListNode:\n",
    "#     def __init__(self, x):\n",
    "#         self.val = x\n",
    "#         self.next = None\n",
    "\n",
    "class Solution:\n",
    "    def detectCycle(self, head: Optional[ListNode]) -> Optional[ListNode]:\n",
    "        val_dic = {}\n",
    "        idx = 0\n",
    "        while True:\n",
    "            if head.val not in val_dic and head.next != None:    \n",
    "                val_dic[head.val] = idx\n",
    "                head = head.next\n",
    "                idx += 1\n",
    "            elif head.next == None:\n",
    "                return -1\n",
    "            else: # head.val in val_dic\n",
    "                return val_dic[head.val]\n",
    "            "
   ]
  },
  {
   "cell_type": "code",
   "execution_count": 18,
   "metadata": {},
   "outputs": [],
   "source": [
    "# 142\n",
    "# Definition for singly-linked list.\n",
    "# class ListNode:\n",
    "#     def __init__(self, x):\n",
    "#         self.val = x\n",
    "#         self.next = None\n",
    "\n",
    "class Solution:\n",
    "    def detectCycle(self, head: Optional[ListNode]) -> Optional[ListNode]:\n",
    "        val_list = []\n",
    "        while True:\n",
    "            if head == None:\n",
    "                return None\n",
    "            elif head.next == None:\n",
    "                return None\n",
    "            elif head.val not in val_list and head.next != None:    \n",
    "                val_list.append(head.val)\n",
    "                head = head.next\n",
    "            elif head.val in val_list: # head.val in val_list\n",
    "                return head\n",
    "            "
   ]
  },
  {
   "cell_type": "code",
   "execution_count": null,
   "metadata": {},
   "outputs": [],
   "source": [
    "# 142_failed\n",
    "# Definition for singly-linked list.\n",
    "# class ListNode:\n",
    "#     def __init__(self, x):\n",
    "#         self.val = x\n",
    "#         self.next = None\n",
    "\n",
    "class Solution:\n",
    "    def detectCycle(self, head: Optional[ListNode]) -> Optional[ListNode]:\n",
    "        val_list = []\n",
    "        while head and head.next:\n",
    "            if head.val not in val_list:    \n",
    "                val_list.append(head.val)\n",
    "                head = head.next\n",
    "            else: # head.val in val_list\n",
    "                return head\n",
    "            "
   ]
  },
  {
   "cell_type": "code",
   "execution_count": null,
   "metadata": {},
   "outputs": [],
   "source": [
    "# 142\n",
    "# Definition for singly-linked list.\n",
    "# class ListNode:\n",
    "#     def __init__(self, x):\n",
    "#         self.val = x\n",
    "#         self.next = None\n",
    "\n",
    "class Solution:\n",
    "    def detectCycle(self, head: Optional[ListNode]) -> Optional[ListNode]:\n",
    "        val_list = []\n",
    "        while head and head.next:\n",
    "            if head not in val_list:    \n",
    "                val_list.append(head)\n",
    "                head = head.next\n",
    "            else: # head in val_list\n",
    "                return head\n",
    "            "
   ]
  },
  {
   "cell_type": "code",
   "execution_count": 16,
   "metadata": {},
   "outputs": [
    {
     "data": {
      "text/plain": [
       "3"
      ]
     },
     "execution_count": 16,
     "metadata": {},
     "output_type": "execute_result"
    }
   ],
   "source": [
    "len([1,2,3])"
   ]
  },
  {
   "cell_type": "code",
   "execution_count": 15,
   "metadata": {},
   "outputs": [
    {
     "name": "stdout",
     "output_type": "stream",
     "text": [
      "None\n"
     ]
    }
   ],
   "source": [
    "# linked list 만드는 거 만들어야한다....\n",
    "class ListNode:\n",
    "    def __init__(self, val=0, next=None):\n",
    "        self.val = val\n",
    "        self.next = next\n",
    "tmp = ListNode(1)\n",
    "tmplst = [1, 2, 3, 4, 5]\n",
    "len_ListNode = len(tmplst)\n",
    "for i in range(len_ListNode-1):\n",
    "    tmp.next = ListNode(tmplst[i+1])\n",
    "    tmp = tmp.next"
   ]
  },
  {
   "cell_type": "code",
   "execution_count": 19,
   "metadata": {},
   "outputs": [],
   "source": [
    "# 695\n",
    "from typing import List\n",
    "class Solution:\n",
    "    def __init__(self):\n",
    "        self.num = 0\n",
    "    def maxAreaOfIsland(self, grid: List[List[int]]) -> int:\n",
    "        visited = set()\n",
    "        R = len(grid)\n",
    "        C = len(grid[0])\n",
    "        r, c = 0, 0\n",
    "        def dfs(r, c):\n",
    "            if -1 < r < R and -1 < c < C and grid[r][c] == 1 and (r,c) not in visited:\n",
    "                visited.add((r, c))\n",
    "                dfs(r, c-1)\n",
    "                dfs(r, c+1)\n",
    "                dfs(r+1, c)\n",
    "                dfs(r-1, c)\n",
    "                self.num += 1\n",
    "\n",
    "        for i in range(R):\n",
    "            for j in range(C):\n",
    "                dfs(i, j)\n",
    "        return self.num"
   ]
  },
  {
   "cell_type": "code",
   "execution_count": null,
   "metadata": {},
   "outputs": [],
   "source": [
    "# 695_failed\n",
    "# 왜 안되는거임..? maximum recursion depth라는데.... 허허\n",
    "from typing import List\n",
    "class Solution:\n",
    "    def __init__(self):\n",
    "        self.num = 0\n",
    "    def maxAreaOfIsland(self, grid: List[List[int]]) -> int:\n",
    "        visited = set()\n",
    "        R = len(grid)\n",
    "        C = len(grid[0])\n",
    "        r, c = 0, 0\n",
    "        def dfs(r, c):\n",
    "            if -1 < r < R and -1 < c < C and (r,c) not in visited:\n",
    "                if grid[r][c] == 0:\n",
    "                    return 0\n",
    "                else:\n",
    "                    visited.add(grid[r][c])\n",
    "                    return 1 + dfs(r, c-1) + dfs(r, c+1) + dfs(r+1, c) + dfs(r-1, c)\n",
    "            return 0\n",
    "        for i in range(R):\n",
    "            for j in range(C):\n",
    "                self.num = max(self.num, dfs(i, j))\n",
    "        return self.num"
   ]
  },
  {
   "cell_type": "code",
   "execution_count": null,
   "metadata": {},
   "outputs": [],
   "source": [
    "# 695\n",
    "from typing import List\n",
    "class Solution:\n",
    "    def __init__(self):\n",
    "        self.num = 0\n",
    "    def maxAreaOfIsland(self, grid: List[List[int]]) -> int:\n",
    "        R = len(grid)\n",
    "        C = len(grid[0])\n",
    "        r, c = 0, 0\n",
    "        def dfs(r, c):\n",
    "            if -1 < r < R and -1 < c < C :\n",
    "                if grid[r][c] == 0:\n",
    "                    return 0\n",
    "                else:\n",
    "                    grid[r][c] = 0 # visit한 것을 0으로 표시해줌.\n",
    "                    return 1 + dfs(r+1, c) + dfs(r-1, c) + dfs(r, c-1) + dfs(r, c+1) \n",
    "            return 0\n",
    "        for i in range(R):\n",
    "            for j in range(C):\n",
    "                self.num = max(self.num, dfs(i, j))\n",
    "        return self.num"
   ]
  },
  {
   "cell_type": "code",
   "execution_count": 26,
   "metadata": {},
   "outputs": [
    {
     "ename": "SyntaxError",
     "evalue": "invalid syntax (3110635451.py, line 9)",
     "output_type": "error",
     "traceback": [
      "\u001b[1;36m  Input \u001b[1;32mIn [26]\u001b[1;36m\u001b[0m\n\u001b[1;33m    grid[r][c] == 1:\u001b[0m\n\u001b[1;37m                   ^\u001b[0m\n\u001b[1;31mSyntaxError\u001b[0m\u001b[1;31m:\u001b[0m invalid syntax\n"
     ]
    }
   ],
   "source": [
    "# 1254\n",
    "from typing import List\n",
    "class Solution:\n",
    "    def closedIsland(self, grid: List[List[int]]) -> int:\n",
    "        R = len(grid)\n",
    "        C = len(grid[0])\n",
    "        count = 0\n",
    "        def dfs(r, c):\n",
    "            if -1 < r < R and -1 < c < C and grid[r][c] == 0:\n",
    "                grid[r][c] = 1 #visited 한 것을 1로 표시\n",
    "                dfs(r, c+1)\n",
    "                dfs(r, c-1)\n",
    "                dfs(r+1, c)\n",
    "                dfs(r-1, c)\n",
    "\n",
    "        # 양끝을 제외시킴\n",
    "        for i in range(R):\n",
    "            for j in range(C):\n",
    "                if(i==0 or j==0 or i==R-1 or j==C-1) and grid[i][j] ==0:\n",
    "                    dfs(i,j)\n",
    "        # 양끝을 제외하고 세기 시작\n",
    "        for i in range(R):\n",
    "            for j in range(C):\n",
    "                if grid[i][j] == 0:\n",
    "                    dfs(i, j)\n",
    "                    count +=1\n",
    "        return count\n"
   ]
  },
  {
   "cell_type": "code",
   "execution_count": null,
   "metadata": {},
   "outputs": [],
   "source": [
    "class Solution(object):\n",
    "    def closedIsland(self, grid):\n",
    "        \"\"\"\n",
    "        :type grid: List[List[int]]\n",
    "        :rtype: int\n",
    "        \"\"\"\n",
    "        if not grid or not grid[0]:\n",
    "            return 0\n",
    "        \n",
    "        m, n = len(grid), len(grid[0])\n",
    "        \n",
    "        def dfs(i, j, val):\n",
    "            if 0<=i<m and 0<=j<n and grid[i][j]==0:\n",
    "                grid[i][j] = val\n",
    "                dfs(i, j+1, val)\n",
    "                dfs(i+1, j, val)\n",
    "                dfs(i-1, j, val)\n",
    "                dfs(i, j-1, val)\n",
    "        \n",
    "        for i in range(m):\n",
    "            for j in range(n):\n",
    "                if (i == 0 or j == 0 or i == m-1 or j == n-1) and grid[i][j] == 0:\n",
    "                    dfs(i, j, 1)\n",
    "                \n",
    "        res = 0\n",
    "        for i in range(m):\n",
    "            for j in range(n):\n",
    "                if grid[i][j] == 0:\n",
    "                    dfs(i, j, 1)\n",
    "                    res += 1\n",
    "                    \n",
    "        return res"
   ]
  },
  {
   "cell_type": "code",
   "execution_count": 21,
   "metadata": {},
   "outputs": [
    {
     "name": "stdout",
     "output_type": "stream",
     "text": [
      "3\n",
      "2\n",
      "1\n"
     ]
    }
   ],
   "source": [
    "a = 3\n",
    "while 0<a<5:\n",
    "    print(a)\n",
    "    a -=1"
   ]
  },
  {
   "cell_type": "code",
   "execution_count": 22,
   "metadata": {},
   "outputs": [],
   "source": [
    "tmp = [[0,0,1,0,0,0,0,1,0,0,0,0,0],[0,0,0,0,0,0,0,1,1,1,0,0,0],[0,1,1,0,1,0,0,0,0,0,0,0,0],[0,1,0,0,1,1,0,0,1,0,1,0,0],[0,1,0,0,1,1,0,0,1,1,1,0,0],[0,0,0,0,0,0,0,0,0,0,1,0,0],[0,0,0,0,0,0,0,1,1,1,0,0,0],[0,0,0,0,0,0,0,1,1,0,0,0,0]]"
   ]
  },
  {
   "cell_type": "code",
   "execution_count": 25,
   "metadata": {},
   "outputs": [
    {
     "data": {
      "text/plain": [
       "0"
      ]
     },
     "execution_count": 25,
     "metadata": {},
     "output_type": "execute_result"
    }
   ],
   "source": [
    "tmp[0][3]"
   ]
  },
  {
   "cell_type": "code",
   "execution_count": null,
   "metadata": {},
   "outputs": [],
   "source": []
  }
 ],
 "metadata": {
  "kernelspec": {
   "display_name": "Python 3",
   "language": "python",
   "name": "python3"
  },
  "language_info": {
   "codemirror_mode": {
    "name": "ipython",
    "version": 3
   },
   "file_extension": ".py",
   "mimetype": "text/x-python",
   "name": "python",
   "nbconvert_exporter": "python",
   "pygments_lexer": "ipython3",
   "version": "3.10.4"
  },
  "orig_nbformat": 4,
  "vscode": {
   "interpreter": {
    "hash": "f4bf4c230414bfad1d1b7f24e608a8d50520451498df4f7b7532ef265a2b9f1f"
   }
  }
 },
 "nbformat": 4,
 "nbformat_minor": 2
}
