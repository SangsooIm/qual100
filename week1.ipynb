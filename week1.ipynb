{
 "cells": [
  {
   "cell_type": "code",
   "execution_count": 2,
   "metadata": {},
   "outputs": [],
   "source": [
    "# 733\n",
    "class Solution(object):\n",
    "    def floodFill(self, image, sr, sc, newColor):\n",
    "        start_color = image[sr][sc]\n",
    "        R, C = len(image), len(image[0])\n",
    "        def dfs(r, c):\n",
    "            if r < 0 or r >= R or c < 0 or c >= C:\n",
    "                return\n",
    "            if image[r][c] == newColor:\n",
    "                return\n",
    "            if image[r][c] != start_color:\n",
    "                return\n",
    "            if image[r][c] == start_color:\n",
    "                image[r][c] = newColor\n",
    "            dfs(r-1, c)\n",
    "            dfs(r+1, c)\n",
    "            dfs(r, c-1)\n",
    "            dfs(r, c+1)\n",
    "        dfs(sr, sc)\n",
    "        return image"
   ]
  },
  {
   "cell_type": "code",
   "execution_count": 3,
   "metadata": {},
   "outputs": [],
   "source": [
    "# 200\n",
    "from typing import List\n",
    "class Solution:\n",
    "    def numIslands(self, grid: List[List[str]]) -> int:\n",
    "        if not grid:\n",
    "            return 0\n",
    "        count = 0\n",
    "        for i in range(len(grid)):\n",
    "            for j in range(len(grid[0])):\n",
    "                if grid[i][j] == '1':\n",
    "                    self.dfs(grid, i, j)\n",
    "                    count += 1\n",
    "        return count\n",
    "    def dfs(self, grid, i, j):\n",
    "        if i < 0 or j < 0 or i >= len(grid) or j >= len(grid[0]) or grid[i][j] != '1':\n",
    "            return\n",
    "        grid[i][j] = \"#\"\n",
    "        self.dfs(grid, i+1, j)\n",
    "        self.dfs(grid, i-1, j)\n",
    "        self.dfs(grid, i, j+1)\n",
    "        self.dfs(grid, i, j-1)\n",
    "        \n"
   ]
  },
  {
   "cell_type": "code",
   "execution_count": 4,
   "metadata": {},
   "outputs": [],
   "source": [
    "#1480\n",
    "class Solution:\n",
    "    def runningSum(self, nums: List[int]) -> List[int]:\n",
    "        out = [0]*len(nums)\n",
    "        out[0] = nums[0]\n",
    "        for i in range(1, len(nums)):\n",
    "            out[i] = out[i-1] + nums[i]\n",
    "        return out"
   ]
  },
  {
   "cell_type": "code",
   "execution_count": 5,
   "metadata": {},
   "outputs": [],
   "source": [
    "# 724\n",
    "class Solution:\n",
    "    def pivotIndex(self, nums: List[int]) -> int:\n",
    "        for i in range(len(nums)):\n",
    "            if (sum(nums[:i]) == sum(nums[i+1:])):\n",
    "                return i\n",
    "            if i == len(nums) -1:\n",
    "                if (sum(nums[:i]) == sum(nums[i+1:])):\n",
    "                    return i\n",
    "                return -1"
   ]
  },
  {
   "cell_type": "code",
   "execution_count": 6,
   "metadata": {},
   "outputs": [],
   "source": [
    "# 205\n",
    "class Solution:\n",
    "    def isIsomorphic(self, s: str, t: str) -> bool:\n",
    "        dic_s = dict.fromkeys(s)\n",
    "        dic_t = dict.fromkeys(t)\n",
    "        for c1, c2 in zip (s, t):\n",
    "            if(dic_s[c1] == None):\n",
    "                dic_s[c1] = c2\n",
    "            elif(dic_s[c1] != c2):\n",
    "                return False\n",
    "            if(dic_t[c2] == None):\n",
    "                dic_t[c2] = c1\n",
    "            elif(dic_t[c2] != c1):\n",
    "                return False\n",
    "        \n",
    "        return True"
   ]
  },
  {
   "cell_type": "code",
   "execution_count": null,
   "metadata": {},
   "outputs": [],
   "source": [
    "# 392\n",
    "class Solution:\n",
    "    def isSubsequence(self, s: str, t: str) -> bool:\n",
    "        LEFT_BOUND, RIGHT_BOUND = len(s), len(t)\n",
    "\n",
    "        def rec_isSubsequence(left_index, right_index):\n",
    "            #base cases\n",
    "            if left_index == LEFT_BOUND:\n",
    "                return True\n",
    "            if right_index == RIGHT_BOUND:\n",
    "                return False\n",
    "            if s[left_index] == t[right_index]:\n",
    "                left_index += 1\n",
    "            right_index += 1\n",
    "            return rec_isSubsequence(left_index, right_index)\n",
    "        return rec_isSubsequence(0,0)"
   ]
  },
  {
   "cell_type": "code",
   "execution_count": 4,
   "metadata": {},
   "outputs": [
    {
     "name": "stdout",
     "output_type": "stream",
     "text": [
      "missclassified : 1234/9999\n",
      "missclassified : 1234/9999\n",
      "missclassified : 0.12341234123412341\n",
      "missclassified : 0.12341234123412341\n"
     ]
    }
   ],
   "source": [
    "sungwang = 1234\n",
    "sangsoo = 9999\n",
    "print(\"missclassified : {}/{}\".format(sungwang, sangsoo))\n",
    "print(f\"missclassified : {sungwang}/{sangsoo}\")\n",
    "print(\"missclassified : {}\".format(sungwang/sangsoo))\n",
    "print(f\"missclassified : {sungwang/sangsoo}\")"
   ]
  },
  {
   "cell_type": "code",
   "execution_count": 3,
   "metadata": {},
   "outputs": [
    {
     "name": "stdout",
     "output_type": "stream",
     "text": [
      "missclassified : 0.12341234123412341\n",
      "missclassified : 0.12341234123412341\n"
     ]
    }
   ],
   "source": [
    "sungwang = 1234\n",
    "sangsoo = 9999"
   ]
  },
  {
   "cell_type": "code",
   "execution_count": null,
   "metadata": {},
   "outputs": [],
   "source": []
  }
 ],
 "metadata": {
  "kernelspec": {
   "display_name": "Python 3",
   "language": "python",
   "name": "python3"
  },
  "language_info": {
   "codemirror_mode": {
    "name": "ipython",
    "version": 3
   },
   "file_extension": ".py",
   "mimetype": "text/x-python",
   "name": "python",
   "nbconvert_exporter": "python",
   "pygments_lexer": "ipython3",
   "version": "3.10.4"
  },
  "orig_nbformat": 4,
  "vscode": {
   "interpreter": {
    "hash": "f4bf4c230414bfad1d1b7f24e608a8d50520451498df4f7b7532ef265a2b9f1f"
   }
  }
 },
 "nbformat": 4,
 "nbformat_minor": 2
}
